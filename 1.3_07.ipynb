{
 "cells": [
  {
   "cell_type": "code",
   "execution_count": 13,
   "metadata": {},
   "outputs": [
    {
     "name": "stdout",
     "output_type": "stream",
     "text": [
      "Using matplotlib backend: TkAgg\n"
     ]
    }
   ],
   "source": [
    "import matplotlib as mpl\n",
    "import matplotlib.pyplot as plt\n",
    "from mpl_toolkits.mplot3d import Axes3D\n",
    "import numpy as np\n",
    "%matplotlib\n",
    "\n",
    "fig = plt.figure()\n",
    "ax = fig.gca(projection='3d')\n",
    "\n",
    "ax.set_xlabel('x')\n",
    "ax.set_ylabel('y')\n",
    "ax.set_zlabel('z')\n",
    "ax.set_xlim3d(-10,10);ax.set_ylim3d(-10,10);ax.set_zlim3d(-10,10)\n",
    "mpl.rcParams['legend.fontsize'] = 20\n",
    "\n",
    "# plot origin and vector 1,1,1\n",
    "# plot the 'rows' and various constant*row, to develop a sense of where the plane resides\n",
    "# can you see vector 1,1,1 project from the plane?\n",
    "\n",
    "oneoneone = ax.quiver3D(0,0,0,1,1,1)\n",
    "point=ax.scatter3D(0,0,0,s=10, marker='o')\n",
    "point=ax.scatter3D(1,-2,1,s=100, marker='o')\n",
    "point=ax.scatter3D(-2,1,1,s=100, marker='o')\n",
    "point=ax.scatter3D(0,-1,1,s=100, marker='o')\n",
    "point=ax.scatter3D(5,-10,5,s=100, marker='o')\n",
    "point=ax.scatter3D(-10,5,5,s=100, marker='o')\n",
    "point=ax.scatter3D(0,-5,5,s=100, marker='o')\n",
    "point=ax.scatter3D(0,5,-5,s=100, marker='o')\n",
    "point=ax.scatter3D(8,-4,-4,s=100, marker='o')\n"
   ]
  }
 ],
 "metadata": {
  "kernelspec": {
   "display_name": "Python [conda env:py36]",
   "language": "python",
   "name": "conda-env-py36-py"
  },
  "language_info": {
   "codemirror_mode": {
    "name": "ipython",
    "version": 3
   },
   "file_extension": ".py",
   "mimetype": "text/x-python",
   "name": "python",
   "nbconvert_exporter": "python",
   "pygments_lexer": "ipython3",
   "version": "3.6.6"
  }
 },
 "nbformat": 4,
 "nbformat_minor": 2
}
