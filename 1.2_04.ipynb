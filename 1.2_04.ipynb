{
 "cells": [
  {
   "cell_type": "code",
   "execution_count": 12,
   "metadata": {
    "scrolled": false
   },
   "outputs": [
    {
     "name": "stdout",
     "output_type": "stream",
     "text": [
      "Using matplotlib backend: TkAgg\n"
     ]
    }
   ],
   "source": [
    "import matplotlib as mpl\n",
    "import matplotlib.pyplot as plt\n",
    "from mpl_toolkits.mplot3d import Axes3D\n",
    "import numpy as np\n",
    "%matplotlib "
   ]
  },
  {
   "cell_type": "code",
   "execution_count": 13,
   "metadata": {},
   "outputs": [],
   "source": [
    "lincombos=[]\n",
    "# unit vectors, v = (4/5,3/5), w= (1/sqrt(5), 2/sqrt(5)), \n",
    "# printing 2d vectors in 3 dimensions, 3rd component of all vectors = 0!\n",
    "lincombos =[[0.8, 0.6, 0],\n",
    " [0.4472135954999579, 0.8944271909999159, 0],\n",
    " [1.247213595, 1.494427191, 0],\n",
    " [0.352786405, -0.294427191, 0],\n",
    " [-0.094427191, -1.188854382, 0],\n",
    " [1.694427191, 2.388854382, 0]]"
   ]
  },
  {
   "cell_type": "code",
   "execution_count": 14,
   "metadata": {},
   "outputs": [],
   "source": [
    "X=[];Y=[];Z=[]\n",
    "U=[];V=[];W=[]\n",
    "maxx=0;maxy=0;maxz=0;minx=0;miny=0;minz=0;\n",
    "for vector in lincombos:\n",
    "    X.append(0);  Y.append(0);  Z.append(0);  # Vectors start at ORIGIN\n",
    "    U.append(vector[0]);  V.append(vector[1]);  W.append(vector[2])"
   ]
  },
  {
   "cell_type": "code",
   "execution_count": 15,
   "metadata": {},
   "outputs": [],
   "source": [
    "fig = plt.figure(figsize=(12,12))\n",
    "ax = fig.gca(projection='3d')\n",
    "mpl.rcParams['legend.fontsize'] = 20\n",
    "ax.quiver3D(X,Y,Z,U,V,W,arrow_length_ratio=.0001, colors=['k','k','b','c','y','r'])\n",
    "font = {'family': 'Suruma',\n",
    "        'color':  'darkred',\n",
    "        'weight': 'normal',\n",
    "        'size': 16,\n",
    "}\n",
    "labels = ['v', 'w', 'v+w', 'v-w', 'v-2w', 'v+2w']\n",
    "for x_label, y_label, z_label, label in zip(U, V, W, labels):\n",
    "    ax.text(x_label, y_label, z_label, label)\n",
    "ax.set_xlabel(\"x\",fontdict=font)\n",
    "ax.set_ylabel(\"y\",fontdict=font)\n",
    "ax.set_zlabel(\"z\",fontdict=font)\n",
    "ax.set_xlim3d(-4,4)\n",
    "ax.set_ylim3d(-4,4)\n",
    "ax.set_zlim3d(-4,4)\n",
    "plt.show()"
   ]
  },
  {
   "cell_type": "code",
   "execution_count": null,
   "metadata": {},
   "outputs": [],
   "source": []
  }
 ],
 "metadata": {
  "kernelspec": {
   "display_name": "Python [conda env:py36]",
   "language": "python",
   "name": "conda-env-py36-py"
  },
  "language_info": {
   "codemirror_mode": {
    "name": "ipython",
    "version": 3
   },
   "file_extension": ".py",
   "mimetype": "text/x-python",
   "name": "python",
   "nbconvert_exporter": "python",
   "pygments_lexer": "ipython3",
   "version": "3.6.6"
  }
 },
 "nbformat": 4,
 "nbformat_minor": 2
}
