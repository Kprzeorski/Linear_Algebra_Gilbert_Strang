{
 "cells": [
  {
   "cell_type": "code",
   "execution_count": 5,
   "metadata": {
    "scrolled": false
   },
   "outputs": [
    {
     "name": "stdout",
     "output_type": "stream",
     "text": [
      "Using matplotlib backend: TkAgg\n"
     ]
    }
   ],
   "source": [
    "import matplotlib as mpl\n",
    "import matplotlib.pyplot as plt\n",
    "from mpl_toolkits.mplot3d import Axes3D\n",
    "from matplotlib import cm\n",
    "import numpy as np\n",
    "%matplotlib"
   ]
  },
  {
   "cell_type": "code",
   "execution_count": 35,
   "metadata": {},
   "outputs": [],
   "source": [
    "fig = plt.figure(figsize=(12,12))\n",
    "ax = fig.gca(projection='3d')\n",
    "ax.set_xlabel('x')\n",
    "ax.set_ylabel('y')\n",
    "ax.set_zlabel('z')\n",
    "\n",
    "ax.set_xlim3d(-5,5)\n",
    "ax.set_ylim3d(-5,5)\n",
    "ax.set_zlim3d(-5,5)\n",
    "mpl.rcParams['legend.fontsize'] = 20\n",
    "\n",
    "# DRAW IN 'ROW SPACE'\n",
    "Z = np.arange(-5, 5, 0.25)\n",
    "Y = np.arange(-5, 5, 0.25)\n",
    "Y, Z = np.meshgrid(Y, Z)\n",
    "X = 2 - (0*-Y + 0*-Z)\n",
    "surf = ax.plot_surface(X, Y, Z, linewidth=0,  alpha=.3)\n",
    "\n",
    "X2 = np.arange(-5, 5, 0.25)\n",
    "Z2 = np.arange(-5, 5, 0.25)\n",
    "X2, Z2 = np.meshgrid(X2, Z2)\n",
    "Y2 = 3-(0*-X2 + 0*-Z2)\n",
    "surf2 = ax.plot_surface(X2, Y2, Z2, linewidth=0, alpha=.2)\n",
    "\n",
    "X3 = np.arange(-5, 5, 0.25)\n",
    "Y3 = np.arange(-5, 5, 0.25)\n",
    "X3, Y3 = np.meshgrid(X3, Y3)\n",
    "Z3 = 4-(0*-X3 + 0*-Y3)\n",
    "surf3 = ax.plot_surface(X3, Y3, Z3, linewidth=0, alpha=.2)\n",
    "\n",
    "\n",
    "# DRAW IN 'COLUMN SPACE'\n",
    "ax.quiver3D(0,0,0,2,0,0,color='g')\n",
    "ax.quiver3D(2,0,0,0,3,0,color='g')\n",
    "ax.quiver3D(2,3,0,0,0,4,color='g')\n",
    "ax.quiver3D(0,0,0,2,3,4,arrow_length_ratio=.1)\n",
    "ax.scatter3D(2,3,4,s=100)\n",
    "labels = ['column1', 'columns1+2', 'columns1+2+3']\n",
    "for x_label, y_label, z_label, label in zip([2,2,2], [0,3,3], [0,0,4], labels):\n",
    "    ax.text(x_label, y_label, z_label, label)"
   ]
  }
 ],
 "metadata": {
  "kernelspec": {
   "display_name": "Python [conda env:py36]",
   "language": "python",
   "name": "conda-env-py36-py"
  },
  "language_info": {
   "codemirror_mode": {
    "name": "ipython",
    "version": 3
   },
   "file_extension": ".py",
   "mimetype": "text/x-python",
   "name": "python",
   "nbconvert_exporter": "python",
   "pygments_lexer": "ipython3",
   "version": "3.6.6"
  }
 },
 "nbformat": 4,
 "nbformat_minor": 2
}
