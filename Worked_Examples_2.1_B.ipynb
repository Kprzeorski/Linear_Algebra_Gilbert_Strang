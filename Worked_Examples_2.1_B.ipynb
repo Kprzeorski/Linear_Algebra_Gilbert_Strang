{
 "cells": [
  {
   "cell_type": "code",
   "execution_count": 2,
   "metadata": {
    "scrolled": false
   },
   "outputs": [
    {
     "name": "stdout",
     "output_type": "stream",
     "text": [
      "Using matplotlib backend: TkAgg\n"
     ]
    }
   ],
   "source": [
    "import matplotlib as mpl\n",
    "import matplotlib.pyplot as plt\n",
    "from mpl_toolkits.mplot3d import Axes3D\n",
    "from matplotlib import cm\n",
    "import numpy as np\n",
    "%matplotlib"
   ]
  },
  {
   "cell_type": "code",
   "execution_count": 43,
   "metadata": {},
   "outputs": [
    {
     "data": {
      "text/plain": [
       "<mpl_toolkits.mplot3d.art3d.Line3DCollection at 0x7fc801ee82e8>"
      ]
     },
     "execution_count": 43,
     "metadata": {},
     "output_type": "execute_result"
    }
   ],
   "source": [
    "fig = plt.figure(figsize=(12,12))\n",
    "ax = fig.gca(projection='3d')\n",
    "ax.set_xlabel('x')\n",
    "ax.set_ylabel('y')\n",
    "ax.set_zlabel('z')\n",
    "mpl.rcParams['legend.fontsize'] = 20\n",
    "# Make data.\n",
    "X = np.arange(-5, 5, 0.25)\n",
    "Y = np.arange(-5, 5, 0.25)\n",
    "X, Y = np.meshgrid(X, Y)\n",
    "Z = (4-X-(3*Y))/5  # x+3y+5z=4\n",
    "surf = ax.plot_surface(X, Y, Z, alpha=.3, label='x+3y+5z=4')\n",
    "\n",
    "X2 = np.arange(-5, 5, 0.25)\n",
    "Y2 = np.arange(-5, 5, 0.25)\n",
    "X2, Y2 = np.meshgrid(X2, Y2)\n",
    "Z2 = (5-X2-(2*Y2))/-3 #x+2y-3z=5\n",
    "surf2 = ax.plot_surface(X2, Y2, Z2, alpha=.2, label='x+2y-3z=5')\n",
    "\n",
    "X3 = np.arange(-5, 5, 0.25)\n",
    "Y3 = np.arange(-5, 5, 0.25)\n",
    "X3, Y3 = np.meshgrid(X3, Y3)\n",
    "Z3 = (8-(2*X3)-(5*Y3))/2  #2x+5y+2z=8\n",
    "surf3 = ax.plot_surface(X3, Y3, Z3, alpha=.2, label='2x+5y+2z=8')\n",
    "\n",
    "X4 = np.arange(-5, 5, 0.25)\n",
    "Y4 = np.arange(-5, 5, 0.25)\n",
    "X4, Y4 = np.meshgrid(X4, Y4)\n",
    "Z4 = (-X4-(3*Y4))/5  #x+3y+5z=0 , (parallel to x+3y+5z=4)\n",
    "surf4 = ax.plot_surface(X4, Y4, Z4, alpha=.2, label='x+3y+5z=0(parallel)')\n",
    "\n",
    "X5 = np.arange(-2.5, 2.5, 0.25)\n",
    "Y5 = np.arange(-2.5, 2.5, 0.25)\n",
    "X5, Y5 = np.meshgrid(X5, Y5)\n",
    "Z5 = (8-2*X5-(6*Y5))/10  #2x+6y+10z=8 , (same plane as x+3y+5z=4)\n",
    "surf5 = ax.plot_surface(X5, Y5, Z5, alpha=.8, label='2x+6y+10z=8')\n",
    "\n",
    "surf._edgecolors2d=surf._edgecolors3d\n",
    "surf2._edgecolors2d=surf2._edgecolors3d\n",
    "surf3._edgecolors2d=surf3._edgecolors3d\n",
    "surf4._edgecolors2d=surf4._edgecolors3d\n",
    "surf5._edgecolors2d=surf5._edgecolors3d\n",
    "surf._facecolors2d=surf._facecolors3d\n",
    "surf2._facecolors2d=surf2._facecolors3d\n",
    "surf3._facecolors2d=surf3._facecolors3d\n",
    "surf4._facecolors2d=surf4._facecolors3d\n",
    "surf5._facecolors2d=surf5._facecolors3d\n",
    "ax.legend(handles=[surf,surf2,surf3,surf4,surf5])\n",
    "ax.quiver3D(0,0,0,1,1,-1)\n",
    "ax.quiver3D(0,0,0,5,5,-5)\n",
    "\n",
    "#point=ax.scatter3D(1,1,1,s=50, marker='^')\n",
    "#point=ax.scatter3D(5,5,5,s=50, marker='^')\n",
    "#point=ax.scatter3D(0,0,0,s=100, marker='o')"
   ]
  },
  {
   "cell_type": "code",
   "execution_count": null,
   "metadata": {},
   "outputs": [],
   "source": []
  }
 ],
 "metadata": {
  "kernelspec": {
   "display_name": "Python [conda env:py36]",
   "language": "python",
   "name": "conda-env-py36-py"
  },
  "language_info": {
   "codemirror_mode": {
    "name": "ipython",
    "version": 3
   },
   "file_extension": ".py",
   "mimetype": "text/x-python",
   "name": "python",
   "nbconvert_exporter": "python",
   "pygments_lexer": "ipython3",
   "version": "3.6.6"
  }
 },
 "nbformat": 4,
 "nbformat_minor": 2
}
