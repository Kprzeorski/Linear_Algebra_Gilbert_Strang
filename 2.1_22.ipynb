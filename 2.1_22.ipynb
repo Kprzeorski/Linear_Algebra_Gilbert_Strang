{
 "cells": [
  {
   "cell_type": "code",
   "execution_count": 2,
   "metadata": {
    "scrolled": false
   },
   "outputs": [
    {
     "name": "stdout",
     "output_type": "stream",
     "text": [
      "Using matplotlib backend: TkAgg\n"
     ]
    }
   ],
   "source": [
    "import matplotlib as mpl\n",
    "import matplotlib.pyplot as plt\n",
    "from mpl_toolkits.mplot3d import Axes3D\n",
    "from matplotlib import cm\n",
    "import numpy as np\n",
    "%matplotlib"
   ]
  },
  {
   "cell_type": "code",
   "execution_count": 25,
   "metadata": {},
   "outputs": [
    {
     "data": {
      "text/plain": [
       "(matrix([[0]]), matrix([[0]]), matrix([[0]]), matrix([[0.]]), matrix([[0.]]))"
      ]
     },
     "execution_count": 25,
     "metadata": {},
     "output_type": "execute_result"
    }
   ],
   "source": [
    "# 1x+1y+0z=5 & 0x+0y+1z=4 overlayed on the planes in the previous problems\n",
    "\n",
    "fig = plt.figure(figsize=(12,12))\n",
    "ax = fig.gca(projection='3d')\n",
    "ax.set_xlabel('x')\n",
    "ax.set_ylabel('y')\n",
    "ax.set_zlabel('z')\n",
    "ax.set_xlim3d(-6,6)\n",
    "ax.set_ylim3d(-6,6)\n",
    "ax.set_zlim3d(-6,6)\n",
    "mpl.rcParams['legend.fontsize'] = 20\n",
    "\n",
    "A=np.matrix([1,4,5])\n",
    "ax.text3D(1,4,5,\"A\")\n",
    "ax.quiver3D(0,0,0,1,4,5,arrow_length_ratio=.1,color='b')\n",
    "\n",
    "ax.text3D(1,1,-1,\"x1\")\n",
    "ax.quiver3D(0,0,0,1,1,-1,arrow_length_ratio=.1,color='k')\n",
    "x1=np.matrix([1,1,-1])\n",
    "ax.text3D(3,3,-3,\"x2\")\n",
    "ax.quiver3D(0,0,0,3,3,-3,arrow_length_ratio=.1,color='k')\n",
    "x2=np.matrix([3,3,-3])\n",
    "ax.text3D(-2,-2,2,\"x3\")\n",
    "ax.quiver3D(0,0,0,-2,-2,2,arrow_length_ratio=.1,color='k')\n",
    "x3=np.matrix([-2,-2,2])\n",
    "ax.text3D(1,0,-(1/5),\"x4\")\n",
    "ax.quiver3D(0,0,0,1,0,-(1/5),arrow_length_ratio=.1,color='k')\n",
    "x4=np.matrix([1,0,-(1/5)])\n",
    "ax.text3D(-3,0,(3/5),\"x5\")\n",
    "ax.quiver3D(0,0,0,-3,0,(3/5),arrow_length_ratio=.1,color='k')\n",
    "x5=np.matrix([-3,0,(3/5)])\n",
    "\n",
    "#All the solutions reside in the plane\n",
    "X = np.arange(-5, 5, 0.25)\n",
    "Y = np.arange(-5, 5, 0.25)\n",
    "X, Y = np.meshgrid(X, Y)\n",
    "Z = ( -X - 4*Y)/5 #x+4y+5z=0\n",
    "surf = ax.plot_surface(X, Y, Z, linewidth=0, alpha=.2)\n",
    "\n",
    "# Ax = 0 for all vectors above:\n",
    "A*x1.T,A*x2.T,A*x3.T,A*x4.T,A*x5.T"
   ]
  },
  {
   "cell_type": "code",
   "execution_count": null,
   "metadata": {},
   "outputs": [],
   "source": []
  }
 ],
 "metadata": {
  "kernelspec": {
   "display_name": "Python [conda env:py36]",
   "language": "python",
   "name": "conda-env-py36-py"
  },
  "language_info": {
   "codemirror_mode": {
    "name": "ipython",
    "version": 3
   },
   "file_extension": ".py",
   "mimetype": "text/x-python",
   "name": "python",
   "nbconvert_exporter": "python",
   "pygments_lexer": "ipython3",
   "version": "3.6.6"
  }
 },
 "nbformat": 4,
 "nbformat_minor": 2
}
