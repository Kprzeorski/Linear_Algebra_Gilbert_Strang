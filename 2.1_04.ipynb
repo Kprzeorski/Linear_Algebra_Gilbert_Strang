{
 "cells": [
  {
   "cell_type": "code",
   "execution_count": 2,
   "metadata": {
    "scrolled": false
   },
   "outputs": [
    {
     "name": "stdout",
     "output_type": "stream",
     "text": [
      "Using matplotlib backend: TkAgg\n"
     ]
    }
   ],
   "source": [
    "import matplotlib as mpl\n",
    "import matplotlib.pyplot as plt\n",
    "from mpl_toolkits.mplot3d import Axes3D\n",
    "from matplotlib import cm\n",
    "import numpy as np\n",
    "%matplotlib"
   ]
  },
  {
   "cell_type": "code",
   "execution_count": 7,
   "metadata": {},
   "outputs": [
    {
     "data": {
      "text/plain": [
       "<mpl_toolkits.mplot3d.art3d.Line3DCollection at 0x7f00f7c30c18>"
      ]
     },
     "execution_count": 7,
     "metadata": {},
     "output_type": "execute_result"
    }
   ],
   "source": [
    "# 1x+1y+0z=5 & 0x+0y+1z=4 overlayed on the planes in the previous problems\n",
    "\n",
    "fig = plt.figure(figsize=(12,12))\n",
    "ax = fig.gca(projection='3d')\n",
    "ax.set_xlabel('x')\n",
    "ax.set_ylabel('y')\n",
    "ax.set_zlabel('z')\n",
    "ax.set_xlim3d(-5,16)\n",
    "ax.set_ylim3d(-5,16)\n",
    "ax.set_zlim3d(-5,16)\n",
    "mpl.rcParams['legend.fontsize'] = 20\n",
    "\n",
    "Z4 = np.arange(-5, 5, 0.25)\n",
    "Y4 = np.arange(-5, 5, 0.25)\n",
    "Y4, Z4 = np.meshgrid(Y4, Z4)\n",
    "X4 = (6 - 1*Y4 - 3*Z4) #1x+1y+3z=6\n",
    "surf4 = ax.plot_surface(X4, Y4, Z4, linewidth=0,  alpha=.2)\n",
    "ax.text3D(0,10,-5,\"1x+1y+3z=6\")\n",
    "ax.quiver3D(0,10,-5,-5,-5,7,arrow_length_ratio=.1,color='k')\n",
    "\n",
    "X5 = np.arange(-5, 5, 0.25)\n",
    "Y5 = np.arange(-5, 5, 0.25)\n",
    "X5, Y5 = np.meshgrid(X5, Y5)\n",
    "Z5 = (4 - 1*X5 + 1*Y5) #1x-1y+1z=4\n",
    "surf5 = ax.plot_surface(X5, Y5, Z5, linewidth=0, alpha=.9)\n",
    "ax.text3D(10,3,10,\"1x-1y+1z=4\")\n",
    "ax.quiver3D(10,3,10,-5,2,-6,arrow_length_ratio=.1,color='k')\n",
    "\n",
    "point=ax.scatter3D(1,-1,2,s=150, marker='o',c='r')\n",
    "ax.text3D(0,0,-5,\"(1,-1,2)\")\n",
    "ax.quiver3D(0,0,-5,1,-1,7,arrow_length_ratio=.1,color='k')\n",
    "\n",
    "point=ax.scatter3D(5,1,0,s=150, marker='o',c='r')\n",
    "ax.text3D(0,5,-5,\"(5,1,0)\")\n",
    "ax.quiver3D(0,5,-5,5,-4,5,arrow_length_ratio=.1,color='k')\n",
    "\n",
    "# a point between the two? take the mean of each component of the previous two points\n",
    "# a point between these two points is of the form cv+dw |  v,w are vectors, c,d constants, c+d=1, c>=0,d>=0\n",
    "# let c=d=1/2, then:\n",
    "# (5+1)/2,(1+-1)/2,(0+2)/2) = 3,0,1\n",
    "point=ax.scatter3D(3,0,1,s=150, marker='o',c='r')\n",
    "ax.text3D(1,2,-3,\"(3,0,1)\")\n",
    "ax.quiver3D(1,2,-3,2,-2,4,arrow_length_ratio=.1,color='k')"
   ]
  }
 ],
 "metadata": {
  "kernelspec": {
   "display_name": "Python [conda env:py36]",
   "language": "python",
   "name": "conda-env-py36-py"
  },
  "language_info": {
   "codemirror_mode": {
    "name": "ipython",
    "version": 3
   },
   "file_extension": ".py",
   "mimetype": "text/x-python",
   "name": "python",
   "nbconvert_exporter": "python",
   "pygments_lexer": "ipython3",
   "version": "3.6.6"
  }
 },
 "nbformat": 4,
 "nbformat_minor": 2
}
