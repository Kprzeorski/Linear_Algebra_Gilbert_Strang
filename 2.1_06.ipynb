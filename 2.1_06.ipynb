{
 "cells": [
  {
   "cell_type": "code",
   "execution_count": 2,
   "metadata": {
    "scrolled": false
   },
   "outputs": [
    {
     "name": "stdout",
     "output_type": "stream",
     "text": [
      "Using matplotlib backend: TkAgg\n"
     ]
    }
   ],
   "source": [
    "import matplotlib as mpl\n",
    "import matplotlib.pyplot as plt\n",
    "from mpl_toolkits.mplot3d import Axes3D\n",
    "from matplotlib import cm\n",
    "import numpy as np\n",
    "%matplotlib"
   ]
  },
  {
   "cell_type": "code",
   "execution_count": 9,
   "metadata": {},
   "outputs": [],
   "source": [
    "# 1x+1y+0z=5 & 0x+0y+1z=4 overlayed on the planes in the previous problems\n",
    "\n",
    "fig = plt.figure(figsize=(12,12))\n",
    "ax = fig.gca(projection='3d')\n",
    "ax.set_xlabel('x')\n",
    "ax.set_ylabel('y')\n",
    "ax.set_zlabel('z')\n",
    "ax.set_xlim3d(-10,10)\n",
    "ax.set_ylim3d(-10,10)\n",
    "ax.set_zlim3d(-10,10)\n",
    "mpl.rcParams['legend.fontsize'] = 20\n",
    "\n",
    "Z3 = np.arange(-5, 5, 0.25)\n",
    "Y3 = np.arange(-5, 5, 0.25)\n",
    "Y3, Z3 = np.meshgrid(Y3, Z3)\n",
    "X3 = (2 - 1*Y3 - 1*Z3) # 1x+1y+1z=2\n",
    "surf3 = ax.plot_surface(X3, Y3, Z3, linewidth=0,  alpha=.2, color='b')\n",
    "\n",
    "\n",
    "Z4 = np.arange(-5, 5, 0.25)\n",
    "Y4 = np.arange(-5, 5, 0.25)\n",
    "Y4, Z4 = np.meshgrid(Y4, Z4)\n",
    "X4 = (3 - 2*Y4 - 1*Z4) # 1x+2y+1z=3\n",
    "surf4 = ax.plot_surface(X4, Y4, Z4, linewidth=0,  alpha=.2, color='b')\n",
    "\n",
    "\n",
    "X5 = np.arange(-5, 5, 0.25)\n",
    "Y5 = np.arange(-5, 5, 0.25)\n",
    "X5, Y5 = np.meshgrid(X5, Y5)\n",
    "Z5 = (5 - 2*X5 - 3*Y5)/2 # 2x+3y+2z=5\n",
    "surf5 = ax.plot_surface(X5, Y5, Z5, linewidth=0, alpha=.9, color='r')\n",
    "\n",
    "\n",
    "X6 = np.arange(-5, 5, 0.25)\n",
    "Y6 = np.arange(-5, 5, 0.25)\n",
    "X6, Y6 = np.meshgrid(X6, Y6)\n",
    "Z6 = (9 - 2*X6 - 3*Y6)/2 # 2x+3y+2z=9\n",
    "surf6 = ax.plot_surface(X6, Y6, Z6, linewidth=0, alpha=.4, color='k')\n",
    "\n",
    "point=ax.scatter3D(1,1,0,s=150, marker='o',c='r')\n",
    "line =ax.quiver3D(-2,1,3,8,0,-8, arrow_length_ratio=0)\n",
    "point=ax.scatter3D(-2,1,3,s=150, marker='o',c='b')\n",
    "point=ax.scatter3D(3,1,-2,s=150, marker='o',c='b')\n",
    "point=ax.scatter3D(6,1,-5,s=150, marker='o',c='b')"
   ]
  }
 ],
 "metadata": {
  "kernelspec": {
   "display_name": "Python [conda env:py36]",
   "language": "python",
   "name": "conda-env-py36-py"
  },
  "language_info": {
   "codemirror_mode": {
    "name": "ipython",
    "version": 3
   },
   "file_extension": ".py",
   "mimetype": "text/x-python",
   "name": "python",
   "nbconvert_exporter": "python",
   "pygments_lexer": "ipython3",
   "version": "3.6.6"
  }
 },
 "nbformat": 4,
 "nbformat_minor": 2
}
