{
 "cells": [
  {
   "cell_type": "code",
   "execution_count": 9,
   "metadata": {
    "scrolled": false
   },
   "outputs": [
    {
     "name": "stdout",
     "output_type": "stream",
     "text": [
      "Using matplotlib backend: TkAgg\n"
     ]
    }
   ],
   "source": [
    "import matplotlib as mpl\n",
    "import matplotlib.pyplot as plt\n",
    "from mpl_toolkits.mplot3d import Axes3D\n",
    "from matplotlib import cm\n",
    "import numpy as np\n",
    "%matplotlib"
   ]
  },
  {
   "cell_type": "code",
   "execution_count": 10,
   "metadata": {},
   "outputs": [],
   "source": [
    "#      v = (x,y,z), w = (z,x,y)\n",
    "# lincombos=[ [v],[w],[v],[w] ]\n",
    "lincombos=[[2,-1,-1],[-1,2,-1],\n",
    "          [1,2,-3],[-3,1,2]]"
   ]
  },
  {
   "cell_type": "code",
   "execution_count": 11,
   "metadata": {},
   "outputs": [
    {
     "data": {
      "text/plain": [
       "([2, -1, 1, -3], [-1, 2, 2, 1], [-1, -1, -3, 2])"
      ]
     },
     "execution_count": 11,
     "metadata": {},
     "output_type": "execute_result"
    }
   ],
   "source": [
    "X=[];Y=[];Z=[] #X,Y,Z for start pt. of vectors (origin)\n",
    "U=[];V=[];W=[] # Tips of the vectors\n",
    "maxax=0\n",
    "for vector in lincombos:\n",
    "    for index in range(0,3):\n",
    "        if np.abs(vector[index]) > maxax: # find the limits of the vectors for graphing axes\n",
    "            maxax = np.abs(vector[index])\n",
    "    X.append(0);  Y.append(0);  Z.append(0);  # Vectors start at ORIGIN\n",
    "    U.append(vector[0]);  V.append(vector[1]);  W.append(vector[2])\n",
    "U,V,W"
   ]
  },
  {
   "cell_type": "code",
   "execution_count": 14,
   "metadata": {},
   "outputs": [],
   "source": [
    "fig = plt.figure()\n",
    "ax = fig.gca(projection='3d')\n",
    "mpl.rcParams['legend.fontsize'] = 20\n",
    "# one set of vectors in green... see the angle?  looks about 120 degrees\n",
    "# the other set of vectors in red\n",
    "ax.quiver3D(X,Y,Z,U,V,W,arrow_length_ratio=0, colors=['r','r','g','g'])\n",
    "font = {'family': 'Suruma',\n",
    "        'color':  'darkred',\n",
    "        'weight': 'normal',\n",
    "        'size': 16,\n",
    "}\n",
    "ax.set_xlabel(\"x\",fontdict=font)\n",
    "ax.set_ylabel(\"y\",fontdict=font)\n",
    "ax.set_zlabel(\"z\",fontdict=font)\n",
    "ax.set_xlim3d(-maxax,maxax)\n",
    "ax.set_ylim3d(-maxax,maxax)\n",
    "ax.set_zlim3d(-maxax,maxax)\n",
    "plt.show()"
   ]
  },
  {
   "cell_type": "code",
   "execution_count": null,
   "metadata": {},
   "outputs": [],
   "source": []
  }
 ],
 "metadata": {
  "kernelspec": {
   "display_name": "Python [conda env:py36]",
   "language": "python",
   "name": "conda-env-py36-py"
  },
  "language_info": {
   "codemirror_mode": {
    "name": "ipython",
    "version": 3
   },
   "file_extension": ".py",
   "mimetype": "text/x-python",
   "name": "python",
   "nbconvert_exporter": "python",
   "pygments_lexer": "ipython3",
   "version": "3.6.6"
  }
 },
 "nbformat": 4,
 "nbformat_minor": 2
}
